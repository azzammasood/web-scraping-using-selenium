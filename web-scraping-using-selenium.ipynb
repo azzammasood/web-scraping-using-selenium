{
 "cells": [
  {
   "cell_type": "markdown",
   "id": "5ecf24ff",
   "metadata": {},
   "source": [
    "# **Web Scraping and Automation using Selenium in Python**\n",
    "\n",
    "Selenium is a tool that is used for automating web browsers. It allows users to write scripts and programs that can interact with web pages in the same way that a user would, including clicking buttons, entering text, and navigating to different pages. Selenium is often used for web scraping, testing web applications, and automating repetitive tasks on the web.\n",
    "Selenium is a powerful tool that can be used with many different programming languages, including Python, Java, and C#. It provides a rich and flexible API that allows users to control web browsers in a variety of ways, including simulating user interactions, extracting data from web pages, and performing actions on multiple web pages at once."
   ]
  },
  {
   "cell_type": "markdown",
   "id": "b13ef95e",
   "metadata": {},
   "source": [
    "## Initializing Selenium"
   ]
  },
  {
   "cell_type": "code",
   "execution_count": 1,
   "id": "58662abe",
   "metadata": {},
   "outputs": [],
   "source": [
    "import selenium\n",
    "from selenium import webdriver\n",
    "from selenium.webdriver.common.by import By\n",
    "from selenium.webdriver.common.keys import Keys"
   ]
  },
  {
   "cell_type": "code",
   "execution_count": 3,
   "id": "535fd0a2",
   "metadata": {},
   "outputs": [],
   "source": [
    "url = 'https://en.wikipedia.org/wiki/Game_of_Thrones'\n",
    "driver = webdriver.Chrome()\n",
    "driver.get(url)\n",
    "\n",
    "# wait for the page to load\n",
    "driver.implicitly_wait(10)"
   ]
  },
  {
   "cell_type": "markdown",
   "id": "e9360010",
   "metadata": {},
   "source": [
    "## Getting Elements from a Page"
   ]
  },
  {
   "cell_type": "markdown",
   "id": "320b1884",
   "metadata": {},
   "source": [
    "#### By choosing the following classes, we can select elements:"
   ]
  },
  {
   "cell_type": "markdown",
   "id": "dae4a5d1",
   "metadata": {},
   "source": [
    "    ID = \"id\"\n",
    "    NAME = \"name\"\n",
    "    XPATH = \"xpath\"\n",
    "    LINK_TEXT = \"link text\"\n",
    "    PARTIAL_LINK_TEXT = \"partial link text\"\n",
    "    TAG_NAME = \"tag name\"\n",
    "    CLASS_NAME = \"class name\"\n",
    "    CSS_SELECTOR = \"css selector\""
   ]
  },
  {
   "cell_type": "markdown",
   "id": "32e294ee",
   "metadata": {},
   "source": [
    "#### The ‘By’ class is used to specify which attribute is used to locate elements on a page. These are the various ways the attributes are used to locate elements on a page:"
   ]
  },
  {
   "cell_type": "markdown",
   "id": "e3e972b9",
   "metadata": {},
   "source": [
    "- find_element(By.ID, \"id\")\n",
    "- find_element(By.NAME, \"name\")\n",
    "- find_element(By.XPATH, \"xpath\")\n",
    "- find_element(By.LINK_TEXT, \"link text\")\n",
    "- find_element(By.PARTIAL_LINK_TEXT, \"partial link text\")\n",
    "- find_element(By.TAG_NAME, \"tag name\")\n",
    "- find_element(By.CLASS_NAME, \"class name\")\n",
    "- find_element(By.CSS_SELECTOR, \"css selector\")"
   ]
  },
  {
   "cell_type": "markdown",
   "id": "cee2b296",
   "metadata": {},
   "source": [
    "#### Getting the name of the page we are at."
   ]
  },
  {
   "cell_type": "code",
   "execution_count": 8,
   "id": "41838e07",
   "metadata": {},
   "outputs": [
    {
     "name": "stdout",
     "output_type": "stream",
     "text": [
      "Game of Thrones\n"
     ]
    }
   ],
   "source": [
    "#getting h1\n",
    "heading1 = driver.find_element(By.TAG_NAME, 'h1')\n",
    "print(heading1.text)"
   ]
  },
  {
   "cell_type": "markdown",
   "id": "765d271e",
   "metadata": {},
   "source": [
    "#### Let's get the H3 tags"
   ]
  },
  {
   "cell_type": "code",
   "execution_count": 9,
   "id": "7c3186b7",
   "metadata": {},
   "outputs": [
    {
     "name": "stdout",
     "output_type": "stream",
     "text": [
      "Plot\n",
      "Cast and characters\n",
      "Themes\n",
      "Inspirations and derivations\n",
      "Conception and development\n",
      "Casting\n",
      "Writing\n",
      "Filming\n",
      "Directing\n",
      "Production design\n",
      "Visual effects\n",
      "Music\n",
      "Language\n",
      "Broadcast\n",
      "Home media and streaming\n",
      "Copyright infringement\n",
      "Critical response\n",
      "Cultural influence\n",
      "Awards\n",
      "Viewership\n",
      "Video games\n",
      "Merchandise and exhibition\n",
      "Thronecast\n",
      "After the Thrones\n",
      "Home media extras\n",
      "Successors\n"
     ]
    }
   ],
   "source": [
    "#getting h3 \n",
    "heading3 = driver.find_elements(By.TAG_NAME, 'h3')\n",
    "\n",
    "for heading in heading3:\n",
    "    print(heading.text)"
   ]
  },
  {
   "cell_type": "markdown",
   "id": "24caacbf",
   "metadata": {},
   "source": [
    "## Selecting all the text paragraphs"
   ]
  },
  {
   "cell_type": "code",
   "execution_count": 11,
   "id": "95e5933d",
   "metadata": {},
   "outputs": [
    {
     "ename": "TypeError",
     "evalue": "'WebElement' object is not iterable",
     "output_type": "error",
     "traceback": [
      "\u001b[1;31m---------------------------------------------------------------------------\u001b[0m",
      "\u001b[1;31mTypeError\u001b[0m                                 Traceback (most recent call last)",
      "\u001b[1;32m~\\AppData\\Local\\Temp\\ipykernel_1952\\587815477.py\u001b[0m in \u001b[0;36m<module>\u001b[1;34m\u001b[0m\n\u001b[0;32m      2\u001b[0m \u001b[0mparagraphs\u001b[0m \u001b[1;33m=\u001b[0m \u001b[0mdriver\u001b[0m\u001b[1;33m.\u001b[0m\u001b[0mfind_element\u001b[0m\u001b[1;33m(\u001b[0m\u001b[0mBy\u001b[0m\u001b[1;33m.\u001b[0m\u001b[0mTAG_NAME\u001b[0m\u001b[1;33m,\u001b[0m \u001b[1;34m'p'\u001b[0m\u001b[1;33m)\u001b[0m\u001b[1;33m\u001b[0m\u001b[1;33m\u001b[0m\u001b[0m\n\u001b[0;32m      3\u001b[0m \u001b[1;33m\u001b[0m\u001b[0m\n\u001b[1;32m----> 4\u001b[1;33m \u001b[1;32mfor\u001b[0m \u001b[0mp\u001b[0m \u001b[1;32min\u001b[0m \u001b[0mparagraphs\u001b[0m\u001b[1;33m:\u001b[0m\u001b[1;33m\u001b[0m\u001b[1;33m\u001b[0m\u001b[0m\n\u001b[0m\u001b[0;32m      5\u001b[0m     \u001b[0mprint\u001b[0m\u001b[1;33m(\u001b[0m\u001b[0mp\u001b[0m\u001b[1;33m.\u001b[0m\u001b[0mtext\u001b[0m\u001b[1;33m)\u001b[0m\u001b[1;33m\u001b[0m\u001b[1;33m\u001b[0m\u001b[0m\n",
      "\u001b[1;31mTypeError\u001b[0m: 'WebElement' object is not iterable"
     ]
    }
   ],
   "source": [
    "# find all the paragraphs on the page\n",
    "paragraphs = driver.find_element(By.TAG_NAME, 'p')\n",
    "\n",
    "for p in paragraphs:\n",
    "    print(p.text)"
   ]
  },
  {
   "cell_type": "markdown",
   "id": "f7394de5",
   "metadata": {},
   "source": [
    "### Selecting Images "
   ]
  },
  {
   "cell_type": "code",
   "execution_count": null,
   "id": "a0fabad0",
   "metadata": {},
   "outputs": [],
   "source": [
    "# Find all img elements on the page\n",
    "img_elements = driver.find_elements_by_tag_name(\"img\")\n",
    "\n",
    "# Loop through the img elements and download the images\n",
    "for i, img_element in enumerate(img_elements):\n",
    "    # Extract the src attribute containing the URL of the image\n",
    "    img_url = img_element.get_attribute(\"src\")\n",
    "    \n",
    "    # Download the image using the requests library\n",
    "    response = requests.get(img_url)\n",
    "    \n",
    "    # Save the image to your local system\n",
    "    with open(f\"image_{i}.png\", \"wb\") as f:\n",
    "        f.write(response.content)\n",
    "\n",
    "# Close the web driver\n",
    "driver.close()\n"
   ]
  },
  {
   "cell_type": "markdown",
   "id": "c5bc9be9",
   "metadata": {},
   "source": [
    "### Clicking on a button, sending keys "
   ]
  },
  {
   "cell_type": "code",
   "execution_count": 14,
   "id": "595cbcc8",
   "metadata": {},
   "outputs": [],
   "source": [
    "search_query = \"selenium automation\"\n",
    "\n",
    "# Open the browser and go to Google\n",
    "browser = webdriver.Chrome()\n",
    "browser.get(\"https://www.google.com\")\n",
    "\n",
    "# Enter the search query in the search box and press the search button\n",
    "search_box = browser.find_element(By.NAME,\"q\")\n",
    "#Sending the query\n",
    "search_box.send_keys(search_query)\n",
    "#sending the key ENTER \n",
    "search_box.send_keys(Keys.ENTER)"
   ]
  },
  {
   "cell_type": "markdown",
   "id": "978eaf1d",
   "metadata": {},
   "source": [
    "#### Your challenge "
   ]
  },
  {
   "cell_type": "markdown",
   "id": "837c979d",
   "metadata": {},
   "source": [
    "Select the search button in main page of wikipedia and search something!"
   ]
  },
  {
   "cell_type": "code",
   "execution_count": null,
   "id": "faeca7f6",
   "metadata": {},
   "outputs": [],
   "source": [
    "#YOUR CODE"
   ]
  }
 ],
 "metadata": {
  "kernelspec": {
   "display_name": "Python 3.9.13 ('base')",
   "language": "python",
   "name": "python3"
  },
  "language_info": {
   "codemirror_mode": {
    "name": "ipython",
    "version": 3
   },
   "file_extension": ".py",
   "mimetype": "text/x-python",
   "name": "python",
   "nbconvert_exporter": "python",
   "pygments_lexer": "ipython3",
   "version": "3.9.13"
  },
  "vscode": {
   "interpreter": {
    "hash": "ad2bdc8ecc057115af97d19610ffacc2b4e99fae6737bb82f5d7fb13d2f2c186"
   }
  }
 },
 "nbformat": 4,
 "nbformat_minor": 5
}
